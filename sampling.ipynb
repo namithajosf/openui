{
 "cells": [
  {
   "cell_type": "code",
   "execution_count": 1,
   "metadata": {},
   "outputs": [
    {
     "name": "stdout",
     "output_type": "stream",
     "text": [
      "Total number of selected images: 30518\n",
      "Images have been shuffled and copied to CNN-Data-Final/CNN-Evaluation/Partitioned-Organic-Data-Split/Training_Sampled.\n"
     ]
    }
   ],
   "source": [
    "import os\n",
    "import random\n",
    "import shutil\n",
    "\n",
    "# Specify the folder paths\n",
    "source_folder = 'CNN-Data-Final/CNN-Evaluation/Partitioned-Organic-Data-Split/Training'\n",
    "destination_folder = 'CNN-Data-Final/CNN-Evaluation/Partitioned-Organic-Data-Split/Training_Sampled'\n",
    "\n",
    "# Create the destination folder if it doesn't exist\n",
    "if not os.path.exists(destination_folder):\n",
    "    os.makedirs(destination_folder)\n",
    "\n",
    "# List all image files in the source folder, excluding files with '._' prefix (macOS metadata files)\n",
    "image_files = [f for f in os.listdir(source_folder) if f.endswith(('.png', '.jpg', '.jpeg')) and not f.startswith('._')]\n",
    "\n",
    "# Initialize a dictionary to hold image files by class labels\n",
    "class_dict = {}\n",
    "\n",
    "# Extract the class labels and group images by class\n",
    "for filename in image_files:\n",
    "    # Assuming the format of the filename is like '12.android.widget.ImageButton.png'\n",
    "    label = filename.split('-')[-1].split('.')[2]  # Extract the class label (e.g., 'ImageButton')\n",
    "\n",
    "    # Add the image to the corresponding class label\n",
    "    if label not in class_dict:\n",
    "        class_dict[label] = []\n",
    "    class_dict[label].append(filename)\n",
    "\n",
    "# Initialize a list to hold selected images\n",
    "selected_images = []\n",
    "\n",
    "# Select up to 5000 images from each class, or select all images if there are fewer than 5000\n",
    "for label, images in class_dict.items():\n",
    "    if len(images) >= 5000:\n",
    "        # Randomly select 5000 images from this class\n",
    "        selected = random.sample(images, 5000)\n",
    "    else:\n",
    "        # If a class has fewer than 5000 images, add all of them\n",
    "        selected = images\n",
    "\n",
    "    # Add selected images to the overall list\n",
    "    selected_images.extend(selected)\n",
    "\n",
    "# Shuffle the selected images\n",
    "random.shuffle(selected_images)\n",
    "\n",
    "# Copy the selected and shuffled images to the destination folder\n",
    "for img in selected_images:\n",
    "    src_path = os.path.join(source_folder, img)\n",
    "    dst_path = os.path.join(destination_folder, img)\n",
    "    shutil.copy(src_path, dst_path)  # Use shutil.move(src_path, dst_path) if you want to move instead of copy\n",
    "\n",
    "# Print the total number of selected images\n",
    "print(f\"Total number of selected images: {len(selected_images)}\")\n",
    "print(f\"Images have been shuffled and copied to {destination_folder}.\")\n"
   ]
  },
  {
   "cell_type": "code",
   "execution_count": 3,
   "metadata": {},
   "outputs": [
    {
     "name": "stdout",
     "output_type": "stream",
     "text": [
      "Total number of images moved: 19086\n",
      "Images have been moved to CNN-Data-Final/CNN-Evaluation/Partitioned-Organic-Data-Split/Test_Sampled.\n"
     ]
    }
   ],
   "source": [
    "import os\n",
    "import random\n",
    "import shutil\n",
    "\n",
    "# Specify the folder paths\n",
    "source_folder = 'CNN-Data-Final/CNN-Evaluation/Partitioned-Organic-Data-Split/Test'\n",
    "destination_folder = 'CNN-Data-Final/CNN-Evaluation/Partitioned-Organic-Data-Split/Test_Sampled'\n",
    "\n",
    "# Create the destination folder if it doesn't exist\n",
    "if not os.path.exists(destination_folder):\n",
    "    os.makedirs(destination_folder)\n",
    "\n",
    "# List all image files in the source folder, excluding files with '._' prefix (macOS metadata files)\n",
    "image_files = [f for f in os.listdir(source_folder) if f.endswith(('.png', '.jpg', '.jpeg')) and not f.startswith('._')]\n",
    "\n",
    "# Move the selected images to the destination folder\n",
    "for img in image_files:\n",
    "    src_path = os.path.join(source_folder, img)\n",
    "    dst_path = os.path.join(destination_folder, img)\n",
    "    shutil.move(src_path, dst_path)  # Use shutil.move to move the images\n",
    "\n",
    "\n",
    "# Print the total number of moved images\n",
    "print(f\"Total number of images moved: {len(image_files)}\")\n",
    "print(f\"Images have been moved to {destination_folder}.\")\n"
   ]
  }
 ],
 "metadata": {
  "kernelspec": {
   "display_name": "Python 3",
   "language": "python",
   "name": "python3"
  },
  "language_info": {
   "codemirror_mode": {
    "name": "ipython",
    "version": 3
   },
   "file_extension": ".py",
   "mimetype": "text/x-python",
   "name": "python",
   "nbconvert_exporter": "python",
   "pygments_lexer": "ipython3",
   "version": "3.10.12"
  }
 },
 "nbformat": 4,
 "nbformat_minor": 2
}
